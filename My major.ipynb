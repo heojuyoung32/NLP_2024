{
  "nbformat": 4,
  "nbformat_minor": 0,
  "metadata": {
    "colab": {
      "provenance": [],
      "authorship_tag": "ABX9TyOjUHBAyGRkaB2Zw7/pmrBq",
      "include_colab_link": true
    },
    "kernelspec": {
      "name": "python3",
      "display_name": "Python 3"
    },
    "language_info": {
      "name": "python"
    }
  },
  "cells": [
    {
      "cell_type": "markdown",
      "metadata": {
        "id": "view-in-github",
        "colab_type": "text"
      },
      "source": [
        "<a href=\"https://colab.research.google.com/github/heojuyoung32/NLP_2024/blob/main/My%20major.ipynb\" target=\"_parent\"><img src=\"https://colab.research.google.com/assets/colab-badge.svg\" alt=\"Open In Colab\"/></a>"
      ]
    },
    {
      "cell_type": "markdown",
      "source": [
        "# *My major is* <font color = orange>**Convention Hotel Management**  🏩\t✈️\n",
        "\n",
        "\n",
        "### **Convention Hotel Management** has changed its name from <font color = red> **2022** </font> and is now called the <font color = orange>**'Hotel Aviation Management'.**\n",
        "\n",
        "\n",
        "### <font color = orange>**Hotel Aviation Management**</font> has opened courses to <font color = pink>*cultivate global talents*</font> who can move to various occupations such as **travel, MICE, convention, restaurant, and aviation,** so you can do <font color = pink>*various comparisons and activities*</font> such as practical education as well as theory.\n",
        "\n"
      ],
      "metadata": {
        "id": "Gmi21seR2f9W"
      }
    },
    {
      "cell_type": "markdown",
      "source": [
        "## **2. 교육목표**\n",
        "\n",
        "1. 호텔항공기업에서 요구하는 전공지식을 함양하기 위한 이론 수업과 실무 수업의 교육과정을 통해 전문가를 양성\n",
        "2. 호텔, 항공, 컨벤션, 여행관광업, 외식산업 등 교육 수요자 맞춤형 교육과정 운영\n",
        "3. 어학을 비롯한 전문자격증 취득과 국내외 호텔항공기업 인턴십을 통해 글로벌 인재 양성\n"
      ],
      "metadata": {
        "id": "D8XJMKxFw8Zj"
      }
    },
    {
      "cell_type": "markdown",
      "source": [
        "## **3. 학과 특화**\n",
        "\n",
        "1. 다양한 비교과: 차별화된 교과과정으로 경험이 어려운 분야까지 역량을 강화할 수 있는 비교과 프로그램 활용\n",
        "2. 현장실습: 호텔, 항공, 리조트, mice, 외식 기업 현장실습 및 인턴십을 통한 우수기업 취업 기회 확대\n"
      ],
      "metadata": {
        "id": "1c-zUjrnxB81"
      }
    },
    {
      "cell_type": "markdown",
      "source": [
        "학과 홈페이지 주소\n",
        "학과 유튜브 주소\n",
        "학과 인스타그램 주소"
      ],
      "metadata": {
        "id": "lK5iEPoQxK9Y"
      }
    }
  ]
}
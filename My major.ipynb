{
  "nbformat": 4,
  "nbformat_minor": 0,
  "metadata": {
    "colab": {
      "provenance": [],
      "authorship_tag": "ABX9TyNMzhF/7ULZuCpGDlrd1Kqa",
      "include_colab_link": true
    },
    "kernelspec": {
      "name": "python3",
      "display_name": "Python 3"
    },
    "language_info": {
      "name": "python"
    }
  },
  "cells": [
    {
      "cell_type": "markdown",
      "metadata": {
        "id": "view-in-github",
        "colab_type": "text"
      },
      "source": [
        "<a href=\"https://colab.research.google.com/github/heojuyoung32/NLP_2024/blob/main/My%20major.ipynb\" target=\"_parent\"><img src=\"https://colab.research.google.com/assets/colab-badge.svg\" alt=\"Open In Colab\"/></a>"
      ]
    },
    {
      "cell_type": "markdown",
      "source": [
        "# *My major is* <font color = orange>**Convention Hotel Management**  🏨\t✈️\n",
        "\n",
        "\n",
        "### **Convention Hotel Management** has changed its name from <font color = red> **2022** </font> and is now called the <font color = orange>**'Hotel Aviation Management'.**\n",
        "\n",
        "\n",
        "### <font color = orange>**Hotel Aviation Management**</font> has opened courses to <font color = pink>*cultivate global talents*</font> who can move to various occupations such as **travel, MICE, convention, restaurant, and aviation,** so you can do <font color = pink>*various comparisons and activities*</font> such as practical education as well as theory.\n",
        "\n"
      ],
      "metadata": {
        "id": "Gmi21seR2f9W"
      }
    },
    {
      "cell_type": "markdown",
      "source": [
        "## **1. Education Objectives**🏨\n",
        "\n",
        "- Training experts through the curriculum of **theoretical and practical classes** to cultivate the major knowledge required by <font color = orange>*hotel aviation companies.*</font>🏨\n",
        "\n",
        "-  Operation of curriculum tailored to education consumers such as <font color = pink>**hotels 🏨\t, aviation ✈️, convention 🏪, travel tourism 🚌, and food service industries 🍴.**</font>\n",
        "\n",
        "- **Cultivate global talents** by acquiring professional certificates including <font color = pink>*language and internship*</font> at domestic and international <font color = orange>hotle aviation companies.✈️\n"
      ],
      "metadata": {
        "id": "D8XJMKxFw8Zj"
      }
    },
    {
      "cell_type": "markdown",
      "source": [
        "## **2. Department Specialization**🎓\n",
        "\n",
        "- <font color = green>**Various non-subjects**</font>✏️: Use of non-subject programs that can strengthen capabilities in areas that are diffcult to experience with <font color = orange>*differentiated curriculums.*</font>\n",
        "- <font color = green>**Field training**</font>🏢: <font color = orange>Expanding job opportunities</font> for excellent companies through field training and internships at <font color = pink>*hotels, aviation, resorts, mice, and restaurant companies.*"
      ],
      "metadata": {
        "id": "1c-zUjrnxB81"
      }
    },
    {
      "cell_type": "markdown",
      "source": [
        "\n",
        "## If you would like to know more about the <font color = orange>**Hotle Aviation Management**(aka. 호항경)</font>, please <font color = blue>*visit the link*</font> below❗❗😊\n",
        "\n",
        "- Department Homepage🔗 ([Click Here](https://hotel.hannam.ac.kr/))\n",
        "\n",
        "- Department YouTube▶️ ([Click Here](https://www.youtube.com/channel/UCC0HzLWv0Q-6NyvhqIPPBBQ))\n",
        "\n",
        "- Department Instagram♥️ ([Click Here](https://www.instagram.com/hnu_hotelairline/))\n",
        "\n",
        "\n",
        "\n",
        "# **THANK YOU** ♥️😆"
      ],
      "metadata": {
        "id": "lK5iEPoQxK9Y"
      }
    }
  ]
}